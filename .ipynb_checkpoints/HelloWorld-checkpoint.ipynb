{
 "cells": [
  {
   "cell_type": "code",
   "execution_count": null,
   "metadata": {},
   "outputs": [],
   "source": [
    "import time\n",
    "\n",
    "# 不使用装饰器\n",
    "def add(a, b):\n",
    "    start_time = time.time()\n",
    "    # print(start_time)\n",
    "    res = a + b，\n",
    "    end_time = time.time()\n",
    "    # print(end_time)\n",
    "    exec_time = end_time - start_time\n",
    "    print(\"Costs {} seconds\".format(exec_time))\n",
    "    return res\n",
    "\n",
    "add(3,5)"
   ]
  },
  {
   "cell_type": "code",
   "execution_count": 8,
   "metadata": {},
   "outputs": [
    {
     "data": {
      "text/plain": [
       "1"
      ]
     },
     "execution_count": 8,
     "metadata": {},
     "output_type": "execute_result"
    }
   ],
   "source": [
    "# 使用装饰器\n",
    "\n",
    "def time_calc(func):\n",
    "    def wrapper(*args, **kargs):\n",
    "        start_time = time.time()\n",
    "        f = func(*args, **kargs)\n",
    "        exec_time = time.time() - start_time\n",
    "        return f\n",
    "    return wrapper\n",
    "\n",
    "@time_calc\n",
    "def sub(a, b):\n",
    "    res = a - b\n",
    "    return res\n",
    "\n",
    "sub(5,4)"
   ]
  }
 ],
 "metadata": {
  "kernelspec": {
   "display_name": "Python 3 (ipykernel)",
   "language": "python",
   "name": "python3"
  },
  "language_info": {
   "codemirror_mode": {
    "name": "ipython",
    "version": 3
   },
   "file_extension": ".py",
   "mimetype": "text/x-python",
   "name": "python",
   "nbconvert_exporter": "python",
   "pygments_lexer": "ipython3",
   "version": "3.11.3"
  }
 },
 "nbformat": 4,
 "nbformat_minor": 2
}
