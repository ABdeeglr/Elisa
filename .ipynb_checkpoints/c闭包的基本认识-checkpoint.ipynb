{
 "cells": [
  {
   "cell_type": "raw",
   "metadata": {},
   "source": [
    "# 闭包的基本认识\n",
    "\n",
    "闭包是一种函数的嵌套，并具有一种特殊的性质，其外部函数的返回值是内部函数的地址，形式如下:\n",
    "\n",
    "```Python\n",
    "def outer():\n",
    "    pass\n",
    "    def inner():\n",
    "        pass\n",
    "    return inner\n",
    "```\n",
    "\n",
    "完成上述定义后，使用闭包分为两个步骤。\n",
    "\n",
    "1. 第一步是调用外部函数 `outer()` 来创建并固定环境，这也是闭包的主要作用。外部函数吐出了供实际使用的内部函数。\n",
    "2. 第二步是使用 `outer()` 返回的内部函数，这时候可以像其他函数一样来使用它，同时它还拥有 `outer()` 函数内部的变量的访问权限。\n",
    "\n",
    "在代码上按照如下形式被使用：\n",
    "\n",
    "```Python\n",
    "# 这一步根据外部函数的定义来构建环境\n",
    "call_func = outer(...)\n",
    "\n",
    "# 紧接着开始使用吐出来的内部函数，这时候它的名字就是 call_func()\n",
    "call_func(...)\n",
    "call_func(...)\n",
    "```"
   ]
  },
  {
   "cell_type": "code",
   "execution_count": null,
   "metadata": {},
   "outputs": [],
   "source": []
  },
  {
   "cell_type": "markdown",
   "metadata": {},
   "source": [
    "下面是一个在《Fluently Python》中使用的例子，它的功能是计算移动平均值。"
   ]
  },
  {
   "cell_type": "code",
   "execution_count": 1,
   "metadata": {},
   "outputs": [
    {
     "name": "stdout",
     "output_type": "stream",
     "text": [
      "2.5\n"
     ]
    }
   ],
   "source": [
    "def make_average():\n",
    "    series = []\n",
    "    \n",
    "    def get_average(new_value):\n",
    "        series.append(new_value)\n",
    "        return sum(series)/len(series)\n",
    "    return get_average\n",
    "\n",
    "aver = make_average()\n",
    "aver(1)\n",
    "aver(2)\n",
    "aver(3)\n",
    "print(aver(4))\n"
   ]
  },
  {
   "cell_type": "markdown",
   "metadata": {},
   "source": [
    "下面的例子是一个错误的闭包，因为它在固定外部环境时使用了不可变对象，这样的话外部环境就失去了使用价值。"
   ]
  },
  {
   "cell_type": "code",
   "execution_count": 31,
   "metadata": {},
   "outputs": [
    {
     "name": "stdout",
     "output_type": "stream",
     "text": [
      "23\n",
      "23\n"
     ]
    }
   ],
   "source": [
    "def outer(a):\n",
    "    b = 10\n",
    "    def inner():\n",
    "        print(a+b)\n",
    "    return inner\n",
    "\n",
    "first = outer(13)\n",
    "first()\n",
    "first()"
   ]
  }
 ],
 "metadata": {
  "kernelspec": {
   "display_name": "Python 3 (ipykernel)",
   "language": "python",
   "name": "python3"
  },
  "language_info": {
   "codemirror_mode": {
    "name": "ipython",
    "version": 3
   },
   "file_extension": ".py",
   "mimetype": "text/x-python",
   "name": "python",
   "nbconvert_exporter": "python",
   "pygments_lexer": "ipython3",
   "version": "3.11.3"
  }
 },
 "nbformat": 4,
 "nbformat_minor": 2
}
