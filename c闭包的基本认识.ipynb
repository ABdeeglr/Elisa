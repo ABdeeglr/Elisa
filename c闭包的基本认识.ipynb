{
 "cells": [
  {
   "cell_type": "raw",
   "metadata": {},
   "source": [
    "# 闭包的基本认识\n",
    "\n",
    "闭包是一种函数的嵌套，并具有一种特殊的性质，其外部函数的返回值是内部函数的地址，形式如下:\n",
    "\n",
    "```Python\n",
    "def outer():\n",
    "    pass\n",
    "    def inner():\n",
    "        pass\n",
    "    return inner\n",
    "```\n",
    "\n",
    "完成上述定义后，使用闭包分为两个步骤。\n",
    "\n",
    "1. 第一步是调用外部函数 `outer()` 来创建并固定环境，这也是闭包的主要作用。外部函数吐出了供实际使用的内部函数。\n",
    "2. 第二步是使用 `outer()` 返回的内部函数，这时候可以像其他函数一样来使用它，同时它还拥有 `outer()` 函数内部的变量的访问权限。\n",
    "\n",
    "在代码上按照如下形式被使用：\n",
    "\n",
    "```Python\n",
    "# 这一步根据外部函数的定义来构建环境\n",
    "call_func = outer(...)\n",
    "\n",
    "# 紧接着开始使用吐出来的内部函数，这时候它的名字就是 call_func()\n",
    "call_func(...)\n",
    "call_func(...)\n",
    "```"
   ]
  },
  {
   "cell_type": "markdown",
   "metadata": {},
   "source": [
    "下面是一个在《Fluently Python》中使用的例子，它的功能是计算移动平均值。"
   ]
  },
  {
   "cell_type": "code",
   "execution_count": null,
   "metadata": {},
   "outputs": [],
   "source": [
    "def make_average():\n",
    "    series = []\n",
    "    \n",
    "    def get_average(new_value):\n",
    "        series.append(new_value)\n",
    "        return sum(series)/len(series)\n",
    "    return get_average\n",
    "\n",
    "aver = make_average()\n",
    "aver(1)\n",
    "aver(2)\n",
    "aver(3)\n",
    "print(aver(4))\n"
   ]
  },
  {
   "cell_type": "markdown",
   "metadata": {},
   "source": [
    "下面的例子是一个错误的闭包，因为它在固定外部环境时使用了不可变对象，这样的话外部环境就失去了使用价值。"
   ]
  },
  {
   "cell_type": "code",
   "execution_count": null,
   "metadata": {},
   "outputs": [],
   "source": [
    "def outer(a):\n",
    "    b = 10\n",
    "    def inner():\n",
    "        print(a+b)\n",
    "    return inner\n",
    "\n",
    "first = outer(13)\n",
    "first()\n",
    "first()"
   ]
  },
  {
   "attachments": {},
   "cell_type": "markdown",
   "metadata": {},
   "source": [
    "下面来介绍装饰器，装饰器似乎是闭包的应用。\n",
    "\n",
    "装饰器是可调用的对象，其参数是另一个函数（被装饰的函数）。装饰器可能会处理被装饰的函数，然后把它返回，或者将其替换为另一个函数或可调用对象。\n",
    "\n",
    "想要理解一个装饰器的意义，就必须回到装饰器的定义。\n",
    "\n",
    "装饰器只是一个简化的语法糖。"
   ]
  },
  {
   "cell_type": "code",
   "execution_count": 1,
   "metadata": {},
   "outputs": [
    {
     "name": "stdout",
     "output_type": "stream",
     "text": [
      "running inner()\n"
     ]
    },
    {
     "data": {
      "text/plain": [
       "<function __main__.deco.<locals>.inner()>"
      ]
     },
     "execution_count": 1,
     "metadata": {},
     "output_type": "execute_result"
    }
   ],
   "source": [
    "def deco(func):\n",
    "    def inner():\n",
    "        print(\"running inner()\")\n",
    "    return inner\n",
    "\n",
    "@deco\n",
    "def target():\n",
    "    print(\"running target()\")\n",
    "\n",
    "target()\n",
    "target"
   ]
  },
  {
   "attachments": {},
   "cell_type": "markdown",
   "metadata": {},
   "source": [
    "按照上面的示例，我来重写一个装饰器"
   ]
  },
  {
   "cell_type": "code",
   "execution_count": 5,
   "metadata": {},
   "outputs": [
    {
     "name": "stdout",
     "output_type": "stream",
     "text": [
      "Hello\n",
      "0.0\n"
     ]
    }
   ],
   "source": [
    "import time\n",
    "def get_time(func):\n",
    "    def inner(a, b):\n",
    "        start_time = time.time()\n",
    "        func(a, b)\n",
    "        end_time = time.time()\n",
    "        print(end_time - start_time)\n",
    "    return inner\n",
    "\n",
    "\n",
    "@get_time\n",
    "def sub(a, b):\n",
    "    print(\"Hello\")\n",
    "    return b - a\n",
    "\n",
    "# sub = get_time(sub)\n",
    "#     = inner()\n",
    "sub(5, 3)"
   ]
  }
 ],
 "metadata": {
  "kernelspec": {
   "display_name": "Python 3 (ipykernel)",
   "language": "python",
   "name": "python3"
  },
  "language_info": {
   "codemirror_mode": {
    "name": "ipython",
    "version": 3
   },
   "file_extension": ".py",
   "mimetype": "text/x-python",
   "name": "python",
   "nbconvert_exporter": "python",
   "pygments_lexer": "ipython3",
   "version": "3.10.11"
  }
 },
 "nbformat": 4,
 "nbformat_minor": 2
}
